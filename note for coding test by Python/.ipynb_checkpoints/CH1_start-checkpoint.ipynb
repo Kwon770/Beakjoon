{
 "cells": [
  {
   "cell_type": "markdown",
   "id": "2fc11075",
   "metadata": {},
   "source": [
    "# 복잡도\n",
    "## 시간복잡도\n",
    "일반적으로 코테 환경에서는 **O(N^3)**을 넘어가면 문제 풀이에서 사용하기 어렵다. 문제의 시간 제한은 1~5초 가량이므로, 보통 연산 횟수가 **10억**이 넘어가면 오답 판정을 받을 수 있다.\n",
    "시간 복잡도 분석이 문제의 풀이의 핵심이므로, 문제의 조건을 확인한 뒤에 사용할 수 있는 알고리즘을 좁혀 나가는 전략도 가능하다. 시간 제한이 1초인 문제에 대한 예시이다.\n",
    "- N범위 500: O(N^3)인 알고리즘\n",
    "- N범위 2000: O(N^2)인 알고리즘\n",
    "- N범위 100,000: O(NlogN)인 알고리즘\n",
    "- N범위 10,000,000: O(N)인 알고리즘\n",
    "\n",
    "\n",
    "## 공간복잡도\n",
    "코테에서는 보통 메모리 사용량을 128~512MB 정도로 제한한다. 일반적인 경우 데이터의 개수가 **1000만** 단위가 넘어가지 않도록 알고리즘 설계를 해야 한다는 의미이다. **1000만**을 넘어가면 알고리즘을 잘못 설계한 것이 아닌지 고민해봐야 한다.\n",
    "\n",
    "\n",
    "## 시간 측정\n",
    "```py\n",
    "import time\n",
    "start_time = time.time()\n",
    "end_time = time.time()\n",
    "print(\"time :\", end_time - start_time)\n",
    "```"
   ]
  }
 ],
 "metadata": {
  "kernelspec": {
   "display_name": "Python 3 (ipykernel)",
   "language": "python",
   "name": "python3"
  },
  "language_info": {
   "codemirror_mode": {
    "name": "ipython",
    "version": 3
   },
   "file_extension": ".py",
   "mimetype": "text/x-python",
   "name": "python",
   "nbconvert_exporter": "python",
   "pygments_lexer": "ipython3",
   "version": "3.9.9"
  }
 },
 "nbformat": 4,
 "nbformat_minor": 5
}
